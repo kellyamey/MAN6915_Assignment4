{
 "cells": [
  {
   "cell_type": "markdown",
   "metadata": {},
   "source": [
    "In this assignment you will create a least squares regression model for the PetalLength and PetalWidth columns of the iris dataset. Using this model, you will then generate a plot that shows both the petal data and the prediction line. \n",
    "\n",
    "You are to implement your own least squares function. You are forbidden to use an existing method from libraries such as numpy.linalg, statsmodels, or scikit-learn.\n",
    "\n",
    "Hints:\n",
    "\n",
    "The coefficients of a Least Squares regression model can be determined with the equation β̂ = inverse(transpose(X) ** X) * transpose(X) * y, where X is a matrix of observations such that the first column is the vector 1, and y is the response vector. This should be trivial to implement if you use numpy arrays. If you want to see this in an actual math formula, you will need to go to the internet and search for the matrix form of the least squares equation. \n"
   ]
  },
  {
   "cell_type": "markdown",
   "metadata": {},
   "source": [
    "## Step 1:\n",
    "Import the necessary modules (numpy, pandas, matplotlib.pyplot) and set jupyter to generate plots inline. (4 points)"
   ]
  },
  {
   "cell_type": "code",
   "execution_count": 1,
   "metadata": {
    "collapsed": true
   },
   "outputs": [],
   "source": [
    "import numpy as np\n",
    "import pandas as pd\n",
    "import matplotlib.pyplot as plt\n",
    "from numpy.linalg import inv\n",
    "%matplotlib inline"
   ]
  },
  {
   "cell_type": "markdown",
   "metadata": {},
   "source": [
    "## Step 2:\n",
    "Read in the iris data set and examine the head to make sure the data is in a usable format (2 points)"
   ]
  },
  {
   "cell_type": "code",
   "execution_count": 2,
   "metadata": {
    "collapsed": false
   },
   "outputs": [
    {
     "data": {
      "text/html": [
       "<div>\n",
       "<table border=\"1\" class=\"dataframe\">\n",
       "  <thead>\n",
       "    <tr style=\"text-align: right;\">\n",
       "      <th></th>\n",
       "      <th>SepalLength</th>\n",
       "      <th>SepalWidth</th>\n",
       "      <th>PetalLength</th>\n",
       "      <th>PetalWidth</th>\n",
       "      <th>Species</th>\n",
       "    </tr>\n",
       "  </thead>\n",
       "  <tbody>\n",
       "    <tr>\n",
       "      <th>0</th>\n",
       "      <td>5.1</td>\n",
       "      <td>3.5</td>\n",
       "      <td>1.4</td>\n",
       "      <td>0.2</td>\n",
       "      <td>Setosa</td>\n",
       "    </tr>\n",
       "    <tr>\n",
       "      <th>1</th>\n",
       "      <td>4.9</td>\n",
       "      <td>3.0</td>\n",
       "      <td>1.4</td>\n",
       "      <td>0.2</td>\n",
       "      <td>Setosa</td>\n",
       "    </tr>\n",
       "    <tr>\n",
       "      <th>2</th>\n",
       "      <td>4.7</td>\n",
       "      <td>3.2</td>\n",
       "      <td>1.3</td>\n",
       "      <td>0.2</td>\n",
       "      <td>Setosa</td>\n",
       "    </tr>\n",
       "    <tr>\n",
       "      <th>3</th>\n",
       "      <td>4.6</td>\n",
       "      <td>3.1</td>\n",
       "      <td>1.5</td>\n",
       "      <td>0.2</td>\n",
       "      <td>Setosa</td>\n",
       "    </tr>\n",
       "    <tr>\n",
       "      <th>4</th>\n",
       "      <td>5.0</td>\n",
       "      <td>3.6</td>\n",
       "      <td>1.4</td>\n",
       "      <td>0.2</td>\n",
       "      <td>Setosa</td>\n",
       "    </tr>\n",
       "  </tbody>\n",
       "</table>\n",
       "</div>"
      ],
      "text/plain": [
       "   SepalLength  SepalWidth  PetalLength  PetalWidth Species\n",
       "0          5.1         3.5          1.4         0.2  Setosa\n",
       "1          4.9         3.0          1.4         0.2  Setosa\n",
       "2          4.7         3.2          1.3         0.2  Setosa\n",
       "3          4.6         3.1          1.5         0.2  Setosa\n",
       "4          5.0         3.6          1.4         0.2  Setosa"
      ]
     },
     "execution_count": 2,
     "metadata": {},
     "output_type": "execute_result"
    }
   ],
   "source": [
    "#read iris.txt into a data frame. iris.txt is a csv file, so use pd.read_csv \n",
    "#for easier reading, change \"Iris-\" to just the Species name\n",
    "iris = pd.read_csv('iris.txt')\n",
    "iris['Species'] = iris['Species'].str.replace('Iris-', '')\n",
    "iris['Species'] = iris['Species'].str.capitalize()\n",
    "iris.head()"
   ]
  },
  {
   "cell_type": "markdown",
   "metadata": {},
   "source": [
    "## Step 3:\n",
    "Create a new (and reduced) data set consisting of only the PetalLength and PetalWidth columns (1 point)"
   ]
  },
  {
   "cell_type": "code",
   "execution_count": 3,
   "metadata": {
    "collapsed": false
   },
   "outputs": [
    {
     "data": {
      "text/html": [
       "<div>\n",
       "<table border=\"1\" class=\"dataframe\">\n",
       "  <thead>\n",
       "    <tr style=\"text-align: right;\">\n",
       "      <th></th>\n",
       "      <th>PetalLength</th>\n",
       "      <th>PetalWidth</th>\n",
       "    </tr>\n",
       "  </thead>\n",
       "  <tbody>\n",
       "    <tr>\n",
       "      <th>0</th>\n",
       "      <td>1.4</td>\n",
       "      <td>0.2</td>\n",
       "    </tr>\n",
       "    <tr>\n",
       "      <th>1</th>\n",
       "      <td>1.4</td>\n",
       "      <td>0.2</td>\n",
       "    </tr>\n",
       "    <tr>\n",
       "      <th>2</th>\n",
       "      <td>1.3</td>\n",
       "      <td>0.2</td>\n",
       "    </tr>\n",
       "    <tr>\n",
       "      <th>3</th>\n",
       "      <td>1.5</td>\n",
       "      <td>0.2</td>\n",
       "    </tr>\n",
       "    <tr>\n",
       "      <th>4</th>\n",
       "      <td>1.4</td>\n",
       "      <td>0.2</td>\n",
       "    </tr>\n",
       "  </tbody>\n",
       "</table>\n",
       "</div>"
      ],
      "text/plain": [
       "   PetalLength  PetalWidth\n",
       "0          1.4         0.2\n",
       "1          1.4         0.2\n",
       "2          1.3         0.2\n",
       "3          1.5         0.2\n",
       "4          1.4         0.2"
      ]
     },
     "execution_count": 3,
     "metadata": {},
     "output_type": "execute_result"
    }
   ],
   "source": [
    "# Select only the PetalLength & Petal Width Columns of the Data Set\n",
    "# then print the header to ensure the correct columns have been selected\n",
    "\n",
    "iris_petal = iris.loc[:,['PetalLength', 'PetalWidth']]\n",
    "iris_petal.head()"
   ]
  },
  {
   "cell_type": "markdown",
   "metadata": {},
   "source": [
    "## Step 4:\n",
    "Create a scatter plot of the reduced data set to make sure the data does not have any outliers or anomalies. (1 point)"
   ]
  },
  {
   "cell_type": "code",
   "execution_count": 4,
   "metadata": {
    "collapsed": false
   },
   "outputs": [
    {
     "data": {
      "image/png": "[encoded data removed]",
      "text/plain": [
       "<matplotlib.figure.Figure at 0x93ae7f0>"
      ]
     },
     "metadata": {},
     "output_type": "display_data"
    }
   ],
   "source": [
    "#create a scatter plot with Petal Length on the x-axis and Petal Width on the y-axis\n",
    "plt.scatter(iris_petal['PetalLength'], iris_petal['PetalWidth'])\n",
    "plt.title(\"Petal Length vs Petal Width\")\n",
    "plt.xlabel(\"Petal Length\")\n",
    "plt.ylabel(\"Petal Width\")\n",
    "plt.show()"
   ]
  },
  {
   "cell_type": "markdown",
   "metadata": {},
   "source": [
    "On this scatter plot, we see that there's a grouping of possibly one of the species. However, there don't appear to be any outliers or anomalies."
   ]
  },
  {
   "cell_type": "markdown",
   "metadata": {},
   "source": [
    "## Step 5a:\n",
    "Implement the basic functions to create a regression model. \n",
    "\n",
    "Create a function to calculate the coefficients of a least squares approximation (1 point)"
   ]
  },
  {
   "cell_type": "code",
   "execution_count": 7,
   "metadata": {
    "collapsed": false
   },
   "outputs": [
    {
     "data": {
      "text/plain": [
       "array([[-0.36651405],\n",
       "       [ 0.41641913]])"
      ]
     },
     "execution_count": 7,
     "metadata": {},
     "output_type": "execute_result"
    }
   ],
   "source": [
    "\n",
    "def coefficients(dataframe, yvar, xvar):\n",
    "    # get y_matrix, multiple arrays of single values\n",
    "    y_matrix = np.array(dataframe[yvar])[:, np.newaxis]\n",
    "\n",
    "    # get x_matrix, include values of 1\n",
    "    ones = np.array(np.ones(len(dataframe[xvar])))[:,np.newaxis]\n",
    "    xs = np.array(dataframe[xvar])[:,np.newaxis]\n",
    "    x_matrix = np.hstack([ones, xs])\n",
    "\n",
    "    # calculate transpose of x_matrix\n",
    "    ones_transpose = ones.reshape(1,len(dataframe[xvar]))\n",
    "    xs_transpose = xs.reshape(1,len(dataframe[xvar]))\n",
    "    x_matrix_transpose = np.vstack([ones_transpose,xs_transpose])\n",
    "    #put entire formula together: inverse of the transpose of x_matrix multiplied by the x_matrix, multiplied by x transpose and the y matrix\n",
    "    # the first number is the y-intercept, second is the slope of the line\n",
    "    beta = np.dot((np.linalg.inv(np.dot(x_matrix_transpose, x_matrix))),(np.dot(x_matrix_transpose, y_matrix)))\n",
    "    \n",
    "    return beta\n",
    "\n",
    "beta = coefficients(iris_petal, 'PetalWidth', 'PetalLength')\n",
    "beta"
   ]
  },
  {
   "cell_type": "markdown",
   "metadata": {},
   "source": [
    "## Step 5b:\n",
    "Create a function to use the least squares coefficients to predict the value of a given input point (1 point)\n"
   ]
  },
  {
   "cell_type": "code",
   "execution_count": 12,
   "metadata": {
    "collapsed": false
   },
   "outputs": [
    {
     "data": {
      "text/plain": [
       "array([ 0.13318891])"
      ]
     },
     "execution_count": 12,
     "metadata": {},
     "output_type": "execute_result"
    }
   ],
   "source": [
    "def prediction(beta, x):\n",
    "    predicted_value = beta[0] + beta[1]*x\n",
    "    \n",
    "    return predicted_value\n",
    "\n",
    "prediction(beta, 1.2)"
   ]
  },
  {
   "cell_type": "markdown",
   "metadata": {},
   "source": [
    "## Step 6:\n",
    "Using your regression model, calculate the points along the regression line of the reduced data set (1 point)"
   ]
  },
  {
   "cell_type": "code",
   "execution_count": 10,
   "metadata": {
    "collapsed": false
   },
   "outputs": [
    {
     "data": {
      "text/plain": [
       "array([[ 1.4       ,  0.21647274],\n",
       "       [ 1.4       ,  0.21647274],\n",
       "       [ 1.3       ,  0.17483083],\n",
       "       [ 1.5       ,  0.25811465],\n",
       "       [ 1.4       ,  0.21647274],\n",
       "       [ 1.7       ,  0.34139848],\n",
       "       [ 1.4       ,  0.21647274],\n",
       "       [ 1.5       ,  0.25811465],\n",
       "       [ 1.4       ,  0.21647274],\n",
       "       [ 1.5       ,  0.25811465],\n",
       "       [ 1.5       ,  0.25811465],\n",
       "       [ 1.6       ,  0.29975657],\n",
       "       [ 1.4       ,  0.21647274],\n",
       "       [ 1.1       ,  0.091547  ],\n",
       "       [ 1.2       ,  0.13318891],\n",
       "       [ 1.5       ,  0.25811465],\n",
       "       [ 1.3       ,  0.17483083],\n",
       "       [ 1.4       ,  0.21647274],\n",
       "       [ 1.7       ,  0.34139848],\n",
       "       [ 1.5       ,  0.25811465],\n",
       "       [ 1.7       ,  0.34139848],\n",
       "       [ 1.5       ,  0.25811465],\n",
       "       [ 1.        ,  0.04990509],\n",
       "       [ 1.7       ,  0.34139848],\n",
       "       [ 1.9       ,  0.42468231],\n",
       "       [ 1.6       ,  0.29975657],\n",
       "       [ 1.6       ,  0.29975657],\n",
       "       [ 1.5       ,  0.25811465],\n",
       "       [ 1.4       ,  0.21647274],\n",
       "       [ 1.6       ,  0.29975657],\n",
       "       [ 1.6       ,  0.29975657],\n",
       "       [ 1.5       ,  0.25811465],\n",
       "       [ 1.5       ,  0.25811465],\n",
       "       [ 1.4       ,  0.21647274],\n",
       "       [ 1.5       ,  0.25811465],\n",
       "       [ 1.2       ,  0.13318891],\n",
       "       [ 1.3       ,  0.17483083],\n",
       "       [ 1.5       ,  0.25811465],\n",
       "       [ 1.3       ,  0.17483083],\n",
       "       [ 1.5       ,  0.25811465],\n",
       "       [ 1.3       ,  0.17483083],\n",
       "       [ 1.3       ,  0.17483083],\n",
       "       [ 1.3       ,  0.17483083],\n",
       "       [ 1.6       ,  0.29975657],\n",
       "       [ 1.9       ,  0.42468231],\n",
       "       [ 1.4       ,  0.21647274],\n",
       "       [ 1.6       ,  0.29975657],\n",
       "       [ 1.4       ,  0.21647274],\n",
       "       [ 1.5       ,  0.25811465],\n",
       "       [ 1.4       ,  0.21647274],\n",
       "       [ 4.7       ,  1.59065588],\n",
       "       [ 4.5       ,  1.50737205],\n",
       "       [ 4.9       ,  1.6739397 ],\n",
       "       [ 4.        ,  1.29916248],\n",
       "       [ 4.6       ,  1.54901396],\n",
       "       [ 4.5       ,  1.50737205],\n",
       "       [ 4.7       ,  1.59065588],\n",
       "       [ 3.3       ,  1.00766909],\n",
       "       [ 4.6       ,  1.54901396],\n",
       "       [ 3.9       ,  1.25752057],\n",
       "       [ 3.5       ,  1.09095292],\n",
       "       [ 4.2       ,  1.38244631],\n",
       "       [ 4.        ,  1.29916248],\n",
       "       [ 4.7       ,  1.59065588],\n",
       "       [ 3.6       ,  1.13259483],\n",
       "       [ 4.4       ,  1.46573014],\n",
       "       [ 4.5       ,  1.50737205],\n",
       "       [ 4.1       ,  1.3408044 ],\n",
       "       [ 4.5       ,  1.50737205],\n",
       "       [ 3.9       ,  1.25752057],\n",
       "       [ 4.8       ,  1.63229779],\n",
       "       [ 4.        ,  1.29916248],\n",
       "       [ 4.9       ,  1.6739397 ],\n",
       "       [ 4.7       ,  1.59065588],\n",
       "       [ 4.3       ,  1.42408822],\n",
       "       [ 4.4       ,  1.46573014],\n",
       "       [ 4.8       ,  1.63229779],\n",
       "       [ 5.        ,  1.71558162],\n",
       "       [ 4.5       ,  1.50737205],\n",
       "       [ 3.5       ,  1.09095292],\n",
       "       [ 3.8       ,  1.21587866],\n",
       "       [ 3.7       ,  1.17423674],\n",
       "       [ 3.9       ,  1.25752057],\n",
       "       [ 5.1       ,  1.75722353],\n",
       "       [ 4.5       ,  1.50737205],\n",
       "       [ 4.5       ,  1.50737205],\n",
       "       [ 4.7       ,  1.59065588],\n",
       "       [ 4.4       ,  1.46573014],\n",
       "       [ 4.1       ,  1.3408044 ],\n",
       "       [ 4.        ,  1.29916248],\n",
       "       [ 4.4       ,  1.46573014],\n",
       "       [ 4.6       ,  1.54901396],\n",
       "       [ 4.        ,  1.29916248],\n",
       "       [ 3.3       ,  1.00766909],\n",
       "       [ 4.2       ,  1.38244631],\n",
       "       [ 4.2       ,  1.38244631],\n",
       "       [ 4.2       ,  1.38244631],\n",
       "       [ 4.3       ,  1.42408822],\n",
       "       [ 3.        ,  0.88274335],\n",
       "       [ 4.1       ,  1.3408044 ],\n",
       "       [ 6.        ,  2.13200075],\n",
       "       [ 5.1       ,  1.75722353],\n",
       "       [ 5.9       ,  2.09035884],\n",
       "       [ 5.6       ,  1.9654331 ],\n",
       "       [ 5.8       ,  2.04871692],\n",
       "       [ 6.6       ,  2.38185223],\n",
       "       [ 4.5       ,  1.50737205],\n",
       "       [ 6.3       ,  2.25692649],\n",
       "       [ 5.8       ,  2.04871692],\n",
       "       [ 6.1       ,  2.17364266],\n",
       "       [ 5.1       ,  1.75722353],\n",
       "       [ 5.3       ,  1.84050736],\n",
       "       [ 5.5       ,  1.92379118],\n",
       "       [ 5.        ,  1.71558162],\n",
       "       [ 5.1       ,  1.75722353],\n",
       "       [ 5.3       ,  1.84050736],\n",
       "       [ 5.5       ,  1.92379118],\n",
       "       [ 6.7       ,  2.42349414],\n",
       "       [ 6.9       ,  2.50677797],\n",
       "       [ 5.        ,  1.71558162],\n",
       "       [ 5.7       ,  2.00707501],\n",
       "       [ 4.9       ,  1.6739397 ],\n",
       "       [ 6.7       ,  2.42349414],\n",
       "       [ 4.9       ,  1.6739397 ],\n",
       "       [ 5.7       ,  2.00707501],\n",
       "       [ 6.        ,  2.13200075],\n",
       "       [ 4.8       ,  1.63229779],\n",
       "       [ 4.9       ,  1.6739397 ],\n",
       "       [ 5.6       ,  1.9654331 ],\n",
       "       [ 5.8       ,  2.04871692],\n",
       "       [ 6.1       ,  2.17364266],\n",
       "       [ 6.4       ,  2.2985684 ],\n",
       "       [ 5.6       ,  1.9654331 ],\n",
       "       [ 5.1       ,  1.75722353],\n",
       "       [ 5.6       ,  1.9654331 ],\n",
       "       [ 6.1       ,  2.17364266],\n",
       "       [ 5.6       ,  1.9654331 ],\n",
       "       [ 5.5       ,  1.92379118],\n",
       "       [ 4.8       ,  1.63229779],\n",
       "       [ 5.4       ,  1.88214927],\n",
       "       [ 5.6       ,  1.9654331 ],\n",
       "       [ 5.1       ,  1.75722353],\n",
       "       [ 5.1       ,  1.75722353],\n",
       "       [ 5.9       ,  2.09035884],\n",
       "       [ 5.7       ,  2.00707501],\n",
       "       [ 5.2       ,  1.79886544],\n",
       "       [ 5.        ,  1.71558162],\n",
       "       [ 5.2       ,  1.79886544],\n",
       "       [ 5.4       ,  1.88214927],\n",
       "       [ 5.1       ,  1.75722353]])"
      ]
     },
     "execution_count": 10,
     "metadata": {},
     "output_type": "execute_result"
    }
   ],
   "source": [
    "# create a loop to loop over the prediction function created in step 5 for all values of Petal Length in the original data set\n",
    "# put these expected/predicted values into an array to be mapped in step 7\n",
    "\n",
    "#initialize the array to use, \n",
    "expected_Petal_Width = np.array([0,0])\n",
    "  \n",
    "for i in iris_petal['PetalLength']:\n",
    "    expected_value = prediction(beta, i)\n",
    "    expected_Petal_Width = np.vstack([expected_Petal_Width, [i, expected_value]])\n",
    "\n",
    "#delete the first observation in the array that we created to initialize\n",
    "expected_Petal_Width = np.delete(expected_Petal_Width, 0, 0)\n",
    "\n",
    "expected_Petal_Width"
   ]
  },
  {
   "cell_type": "markdown",
   "metadata": {},
   "source": [
    "## Step 7:\n",
    "Plot the regression line on top of a scatter plot of the reduced data set (you will need to remove duplicate X values to get matplotlib to draw an actual line) (2 points)"
   ]
  },
  {
   "cell_type": "code",
   "execution_count": 11,
   "metadata": {
    "collapsed": false
   },
   "outputs": [
    {
     "data": {
      "image/png": "[encoded data removed]",
      "text/plain": [
       "<matplotlib.figure.Figure at 0x940bba8>"
      ]
     },
     "metadata": {},
     "output_type": "display_data"
    }
   ],
   "source": [
    "#Change from Numpy array into DataFrame\n",
    "data = pd.DataFrame(data = expected_Petal_Width[0:,0:])\n",
    "#Remove duplicate rows\n",
    "data = data.drop_duplicates()\n",
    "\n",
    "#creat scatter plot with regression line fitted on top\n",
    "plt.scatter(iris_petal['PetalLength'], iris_petal['PetalWidth'])\n",
    "plt.plot(data[0],data[1])\n",
    "plt.title(\"Petal Length vs Petal Width with Regression Line\")\n",
    "plt.xlabel(\"Petal Length\")\n",
    "plt.ylabel(\"Petal Width\")\n",
    "plt.show()\n",
    "plt.show()"
   ]
  },
  {
   "cell_type": "code",
   "execution_count": null,
   "metadata": {
    "collapsed": true
   },
   "outputs": [],
   "source": []
  }
 ],
 "metadata": {
  "anaconda-cloud": {},
  "kernelspec": {
   "display_name": "Python [default]",
   "language": "python",
   "name": "python3"
  },
  "language_info": {
   "codemirror_mode": {
    "name": "ipython",
    "version": 3
   },
   "file_extension": ".py",
   "mimetype": "text/x-python",
   "name": "python",
   "nbconvert_exporter": "python",
   "pygments_lexer": "ipython3",
   "version": "3.5.2"
  }
 },
 "nbformat": 4,
 "nbformat_minor": 1
}
